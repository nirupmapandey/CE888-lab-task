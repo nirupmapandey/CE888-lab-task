{
  "nbformat": 4,
  "nbformat_minor": 0,
  "metadata": {
    "accelerator": "TPU",
    "colab": {
      "name": "Ensemble Learning on IHDP dataset.ipynb",
      "provenance": [],
      "collapsed_sections": [],
      "authorship_tag": "ABX9TyP1yDhz1nhcQU778WZxhlzr"
    },
    "kernelspec": {
      "display_name": "Python 3",
      "name": "python3"
    },
    "language_info": {
      "name": "python"
    }
  },
  "cells": [
    {
      "cell_type": "markdown",
      "metadata": {
        "id": "NZosIvWvZi5Z"
      },
      "source": [
        "The Infant Health Development Program (IHDP) dataset was collected to investigate the effect of high-quality childcare and home visits on the future cognitive test score of low-birth-weight, premature infants.                                               "
      ]
    },
    {
      "cell_type": "markdown",
      "metadata": {
        "id": "hJxeKN9YZyZr"
      },
      "source": [
        "#Section 1: Preprocessing data.                                                  \n",
        "In this section we will be loading CSV file, followed by missing value imputation and removal of outliers"
      ]
    },
    {
      "cell_type": "code",
      "metadata": {
        "id": "KEV3t8xtZxH2"
      },
      "source": [
        "import pandas as pd # library for data analsysis\n",
        "import numpy as np # library to handle data in a vectorized manner\n",
        "import seaborn as sns # for visualization\n",
        "from sklearn.model_selection import RandomizedSearchCV # for hyperparameters tuning\n",
        "from sklearn.model_selection import cross_val_score # for cross-validation evaluation\n",
        "from sklearn.metrics import mean_squared_error # to calculate the RMSE\n",
        "from joblib import dump # to save a model to disk"
      ],
      "execution_count": 1,
      "outputs": []
    },
    {
      "cell_type": "markdown",
      "metadata": {
        "id": "5Yg3OHXgcosC"
      },
      "source": [
        "### Loading dataset"
      ]
    },
    {
      "cell_type": "code",
      "metadata": {
        "id": "gNELfVPSaxtP",
        "colab": {
          "base_uri": "https://localhost:8080/",
          "height": 224
        },
        "outputId": "d26a72e5-88e1-4166-91d5-fdb1cba54d8d"
      },
      "source": [
        "data = pd.read_csv ('ihdp_npci_repl532.csv')\n",
        "#print(data)\n",
        "data.head()"
      ],
      "execution_count": 5,
      "outputs": [
        {
          "output_type": "execute_result",
          "data": {
            "text/html": [
              "<div>\n",
              "<style scoped>\n",
              "    .dataframe tbody tr th:only-of-type {\n",
              "        vertical-align: middle;\n",
              "    }\n",
              "\n",
              "    .dataframe tbody tr th {\n",
              "        vertical-align: top;\n",
              "    }\n",
              "\n",
              "    .dataframe thead th {\n",
              "        text-align: right;\n",
              "    }\n",
              "</style>\n",
              "<table border=\"1\" class=\"dataframe\">\n",
              "  <thead>\n",
              "    <tr style=\"text-align: right;\">\n",
              "      <th></th>\n",
              "      <th>x1</th>\n",
              "      <th>x2</th>\n",
              "      <th>x3</th>\n",
              "      <th>x4</th>\n",
              "      <th>x5</th>\n",
              "      <th>x6</th>\n",
              "      <th>x7</th>\n",
              "      <th>x8</th>\n",
              "      <th>x9</th>\n",
              "      <th>x10</th>\n",
              "      <th>x11</th>\n",
              "      <th>x12</th>\n",
              "      <th>x13</th>\n",
              "      <th>x14</th>\n",
              "      <th>x15</th>\n",
              "      <th>x16</th>\n",
              "      <th>x17</th>\n",
              "      <th>x18</th>\n",
              "      <th>x19</th>\n",
              "      <th>x20</th>\n",
              "      <th>x21</th>\n",
              "      <th>x22</th>\n",
              "      <th>x23</th>\n",
              "      <th>x24</th>\n",
              "      <th>x25</th>\n",
              "      <th>t</th>\n",
              "      <th>outcome</th>\n",
              "    </tr>\n",
              "  </thead>\n",
              "  <tbody>\n",
              "    <tr>\n",
              "      <th>0</th>\n",
              "      <td>-0.158967</td>\n",
              "      <td>-2.201766</td>\n",
              "      <td>-0.733261</td>\n",
              "      <td>-0.879606</td>\n",
              "      <td>-0.379120</td>\n",
              "      <td>-0.857787</td>\n",
              "      <td>1.0</td>\n",
              "      <td>0.0</td>\n",
              "      <td>1.0</td>\n",
              "      <td>1.0</td>\n",
              "      <td>0.0</td>\n",
              "      <td>0.0</td>\n",
              "      <td>1.0</td>\n",
              "      <td>2.0</td>\n",
              "      <td>0.0</td>\n",
              "      <td>1.0</td>\n",
              "      <td>1.0</td>\n",
              "      <td>1.0</td>\n",
              "      <td>0.0</td>\n",
              "      <td>0.0</td>\n",
              "      <td>0.0</td>\n",
              "      <td>0.0</td>\n",
              "      <td>0.0</td>\n",
              "      <td>0.0</td>\n",
              "      <td>0.0</td>\n",
              "      <td>0.0</td>\n",
              "      <td>3.976909</td>\n",
              "    </tr>\n",
              "    <tr>\n",
              "      <th>1</th>\n",
              "      <td>-1.045229</td>\n",
              "      <td>-1.337276</td>\n",
              "      <td>1.128554</td>\n",
              "      <td>-0.879606</td>\n",
              "      <td>0.683672</td>\n",
              "      <td>0.301522</td>\n",
              "      <td>1.0</td>\n",
              "      <td>0.0</td>\n",
              "      <td>1.0</td>\n",
              "      <td>0.0</td>\n",
              "      <td>0.0</td>\n",
              "      <td>0.0</td>\n",
              "      <td>0.0</td>\n",
              "      <td>2.0</td>\n",
              "      <td>0.0</td>\n",
              "      <td>1.0</td>\n",
              "      <td>1.0</td>\n",
              "      <td>1.0</td>\n",
              "      <td>1.0</td>\n",
              "      <td>0.0</td>\n",
              "      <td>0.0</td>\n",
              "      <td>0.0</td>\n",
              "      <td>0.0</td>\n",
              "      <td>0.0</td>\n",
              "      <td>0.0</td>\n",
              "      <td>0.0</td>\n",
              "      <td>6.455608</td>\n",
              "    </tr>\n",
              "    <tr>\n",
              "      <th>2</th>\n",
              "      <td>-0.785835</td>\n",
              "      <td>-0.602710</td>\n",
              "      <td>0.011465</td>\n",
              "      <td>0.161703</td>\n",
              "      <td>0.371086</td>\n",
              "      <td>-1.189018</td>\n",
              "      <td>0.0</td>\n",
              "      <td>0.0</td>\n",
              "      <td>0.0</td>\n",
              "      <td>1.0</td>\n",
              "      <td>0.0</td>\n",
              "      <td>0.0</td>\n",
              "      <td>1.0</td>\n",
              "      <td>1.0</td>\n",
              "      <td>1.0</td>\n",
              "      <td>0.0</td>\n",
              "      <td>0.0</td>\n",
              "      <td>1.0</td>\n",
              "      <td>0.0</td>\n",
              "      <td>0.0</td>\n",
              "      <td>0.0</td>\n",
              "      <td>0.0</td>\n",
              "      <td>1.0</td>\n",
              "      <td>0.0</td>\n",
              "      <td>0.0</td>\n",
              "      <td>0.0</td>\n",
              "      <td>5.344970</td>\n",
              "    </tr>\n",
              "    <tr>\n",
              "      <th>3</th>\n",
              "      <td>-0.245431</td>\n",
              "      <td>-0.202946</td>\n",
              "      <td>0.011465</td>\n",
              "      <td>1.203011</td>\n",
              "      <td>0.058500</td>\n",
              "      <td>-0.526556</td>\n",
              "      <td>0.0</td>\n",
              "      <td>1.0</td>\n",
              "      <td>1.0</td>\n",
              "      <td>1.0</td>\n",
              "      <td>0.0</td>\n",
              "      <td>0.0</td>\n",
              "      <td>0.0</td>\n",
              "      <td>1.0</td>\n",
              "      <td>0.0</td>\n",
              "      <td>1.0</td>\n",
              "      <td>1.0</td>\n",
              "      <td>1.0</td>\n",
              "      <td>0.0</td>\n",
              "      <td>0.0</td>\n",
              "      <td>0.0</td>\n",
              "      <td>0.0</td>\n",
              "      <td>1.0</td>\n",
              "      <td>0.0</td>\n",
              "      <td>0.0</td>\n",
              "      <td>0.0</td>\n",
              "      <td>7.024344</td>\n",
              "    </tr>\n",
              "    <tr>\n",
              "      <th>4</th>\n",
              "      <td>-1.875288</td>\n",
              "      <td>-1.802002</td>\n",
              "      <td>1.873280</td>\n",
              "      <td>1.203011</td>\n",
              "      <td>0.058500</td>\n",
              "      <td>0.963985</td>\n",
              "      <td>1.0</td>\n",
              "      <td>0.0</td>\n",
              "      <td>0.0</td>\n",
              "      <td>0.0</td>\n",
              "      <td>1.0</td>\n",
              "      <td>0.0</td>\n",
              "      <td>1.0</td>\n",
              "      <td>1.0</td>\n",
              "      <td>0.0</td>\n",
              "      <td>1.0</td>\n",
              "      <td>0.0</td>\n",
              "      <td>1.0</td>\n",
              "      <td>0.0</td>\n",
              "      <td>0.0</td>\n",
              "      <td>0.0</td>\n",
              "      <td>0.0</td>\n",
              "      <td>1.0</td>\n",
              "      <td>0.0</td>\n",
              "      <td>0.0</td>\n",
              "      <td>0.0</td>\n",
              "      <td>6.126817</td>\n",
              "    </tr>\n",
              "  </tbody>\n",
              "</table>\n",
              "</div>"
            ],
            "text/plain": [
              "         x1        x2        x3        x4  ...  x24  x25    t   outcome\n",
              "0 -0.158967 -2.201766 -0.733261 -0.879606  ...  0.0  0.0  0.0  3.976909\n",
              "1 -1.045229 -1.337276  1.128554 -0.879606  ...  0.0  0.0  0.0  6.455608\n",
              "2 -0.785835 -0.602710  0.011465  0.161703  ...  0.0  0.0  0.0  5.344970\n",
              "3 -0.245431 -0.202946  0.011465  1.203011  ...  0.0  0.0  0.0  7.024344\n",
              "4 -1.875288 -1.802002  1.873280  1.203011  ...  0.0  0.0  0.0  6.126817\n",
              "\n",
              "[5 rows x 27 columns]"
            ]
          },
          "metadata": {
            "tags": []
          },
          "execution_count": 5
        }
      ]
    },
    {
      "cell_type": "code",
      "metadata": {
        "colab": {
          "base_uri": "https://localhost:8080/"
        },
        "id": "3Y-X3z7UcnBF",
        "outputId": "30f960a6-fbd2-44aa-b966-237bf0658860"
      },
      "source": [
        "data.shape\n",
        "#data.dtypes"
      ],
      "execution_count": 6,
      "outputs": [
        {
          "output_type": "execute_result",
          "data": {
            "text/plain": [
              "(747, 27)"
            ]
          },
          "metadata": {
            "tags": []
          },
          "execution_count": 6
        }
      ]
    },
    {
      "cell_type": "code",
      "metadata": {
        "colab": {
          "base_uri": "https://localhost:8080/"
        },
        "id": "gQXWe4jyGsvu",
        "outputId": "b1eb9bfa-d3a3-4067-9c63-38fbbd7222c8"
      },
      "source": [
        "data.isna().sum()\n",
        "# data.nunique()"
      ],
      "execution_count": 7,
      "outputs": [
        {
          "output_type": "execute_result",
          "data": {
            "text/plain": [
              "x1         0\n",
              "x2         0\n",
              "x3         0\n",
              "x4         0\n",
              "x5         0\n",
              "x6         0\n",
              "x7         0\n",
              "x8         0\n",
              "x9         0\n",
              "x10        0\n",
              "x11        0\n",
              "x12        0\n",
              "x13        0\n",
              "x14        0\n",
              "x15        0\n",
              "x16        0\n",
              "x17        0\n",
              "x18        0\n",
              "x19        0\n",
              "x20        0\n",
              "x21        0\n",
              "x22        0\n",
              "x23        0\n",
              "x24        0\n",
              "x25        0\n",
              "t          0\n",
              "outcome    0\n",
              "dtype: int64"
            ]
          },
          "metadata": {
            "tags": []
          },
          "execution_count": 7
        }
      ]
    },
    {
      "cell_type": "markdown",
      "metadata": {
        "id": "b2qxqCWrGOxU"
      },
      "source": [
        "### Remove outliers"
      ]
    },
    {
      "cell_type": "code",
      "metadata": {
        "colab": {
          "base_uri": "https://localhost:8080/"
        },
        "id": "41xHdmvMbVGf",
        "outputId": "c0f6e359-b6fe-4307-b9a6-40db9628586b"
      },
      "source": [
        "data.info"
      ],
      "execution_count": 8,
      "outputs": [
        {
          "output_type": "execute_result",
          "data": {
            "text/plain": [
              "<bound method DataFrame.info of            x1        x2        x3        x4  ...  x24  x25    t   outcome\n",
              "0   -0.158967 -2.201766 -0.733261 -0.879606  ...  0.0  0.0  0.0  3.976909\n",
              "1   -1.045229 -1.337276  1.128554 -0.879606  ...  0.0  0.0  0.0  6.455608\n",
              "2   -0.785835 -0.602710  0.011465  0.161703  ...  0.0  0.0  0.0  5.344970\n",
              "3   -0.245431 -0.202946  0.011465  1.203011  ...  0.0  0.0  0.0  7.024344\n",
              "4   -1.875288 -1.802002  1.873280  1.203011  ...  0.0  0.0  0.0  6.126817\n",
              "..        ...       ...       ...       ...  ...  ...  ...  ...       ...\n",
              "742  0.208507  0.196818 -0.360898 -0.879606  ...  0.0  0.0  0.0  2.343596\n",
              "743  0.208507  0.196818 -1.105624  2.244320  ...  0.0  1.0  0.0  2.985593\n",
              "744  1.505476  0.996346 -1.105624  2.244320  ...  1.0  0.0  0.0  4.336649\n",
              "745 -0.310280  0.596582 -0.360898  0.161703  ...  1.0  0.0  0.0  2.314985\n",
              "746  1.246082  1.396110 -0.360898  2.244320  ...  0.0  0.0  0.0  2.885491\n",
              "\n",
              "[747 rows x 27 columns]>"
            ]
          },
          "metadata": {
            "tags": []
          },
          "execution_count": 8
        }
      ]
    },
    {
      "cell_type": "code",
      "metadata": {
        "colab": {
          "base_uri": "https://localhost:8080/",
          "height": 368
        },
        "id": "4rbDtPgyc6B0",
        "outputId": "6d277f69-61bf-426d-dca7-353980aa8735"
      },
      "source": [
        "data.describe()"
      ],
      "execution_count": 9,
      "outputs": [
        {
          "output_type": "execute_result",
          "data": {
            "text/html": [
              "<div>\n",
              "<style scoped>\n",
              "    .dataframe tbody tr th:only-of-type {\n",
              "        vertical-align: middle;\n",
              "    }\n",
              "\n",
              "    .dataframe tbody tr th {\n",
              "        vertical-align: top;\n",
              "    }\n",
              "\n",
              "    .dataframe thead th {\n",
              "        text-align: right;\n",
              "    }\n",
              "</style>\n",
              "<table border=\"1\" class=\"dataframe\">\n",
              "  <thead>\n",
              "    <tr style=\"text-align: right;\">\n",
              "      <th></th>\n",
              "      <th>x1</th>\n",
              "      <th>x2</th>\n",
              "      <th>x3</th>\n",
              "      <th>x4</th>\n",
              "      <th>x5</th>\n",
              "      <th>x6</th>\n",
              "      <th>x7</th>\n",
              "      <th>x8</th>\n",
              "      <th>x9</th>\n",
              "      <th>x10</th>\n",
              "      <th>x11</th>\n",
              "      <th>x12</th>\n",
              "      <th>x13</th>\n",
              "      <th>x14</th>\n",
              "      <th>x15</th>\n",
              "      <th>x16</th>\n",
              "      <th>x17</th>\n",
              "      <th>x18</th>\n",
              "      <th>x19</th>\n",
              "      <th>x20</th>\n",
              "      <th>x21</th>\n",
              "      <th>x22</th>\n",
              "      <th>x23</th>\n",
              "      <th>x24</th>\n",
              "      <th>x25</th>\n",
              "      <th>t</th>\n",
              "      <th>outcome</th>\n",
              "    </tr>\n",
              "  </thead>\n",
              "  <tbody>\n",
              "    <tr>\n",
              "      <th>count</th>\n",
              "      <td>7.470000e+02</td>\n",
              "      <td>7.470000e+02</td>\n",
              "      <td>7.470000e+02</td>\n",
              "      <td>7.470000e+02</td>\n",
              "      <td>7.470000e+02</td>\n",
              "      <td>7.470000e+02</td>\n",
              "      <td>747.000000</td>\n",
              "      <td>747.000000</td>\n",
              "      <td>747.000000</td>\n",
              "      <td>747.000000</td>\n",
              "      <td>747.000000</td>\n",
              "      <td>747.000000</td>\n",
              "      <td>747.000000</td>\n",
              "      <td>747.000000</td>\n",
              "      <td>747.000000</td>\n",
              "      <td>747.000000</td>\n",
              "      <td>747.000000</td>\n",
              "      <td>747.000000</td>\n",
              "      <td>747.000000</td>\n",
              "      <td>747.000000</td>\n",
              "      <td>747.000000</td>\n",
              "      <td>747.000000</td>\n",
              "      <td>747.000000</td>\n",
              "      <td>747.000000</td>\n",
              "      <td>747.000000</td>\n",
              "      <td>747.000000</td>\n",
              "      <td>747.000000</td>\n",
              "    </tr>\n",
              "    <tr>\n",
              "      <th>mean</th>\n",
              "      <td>3.061659e-17</td>\n",
              "      <td>2.229364e-17</td>\n",
              "      <td>-5.855795e-17</td>\n",
              "      <td>-6.242218e-16</td>\n",
              "      <td>1.203856e-17</td>\n",
              "      <td>-6.117373e-16</td>\n",
              "      <td>0.514056</td>\n",
              "      <td>0.093708</td>\n",
              "      <td>0.520750</td>\n",
              "      <td>0.364123</td>\n",
              "      <td>0.269076</td>\n",
              "      <td>0.219545</td>\n",
              "      <td>0.358768</td>\n",
              "      <td>1.463186</td>\n",
              "      <td>0.140562</td>\n",
              "      <td>0.959839</td>\n",
              "      <td>0.594378</td>\n",
              "      <td>0.963855</td>\n",
              "      <td>0.135207</td>\n",
              "      <td>0.135207</td>\n",
              "      <td>0.156627</td>\n",
              "      <td>0.081660</td>\n",
              "      <td>0.073628</td>\n",
              "      <td>0.128514</td>\n",
              "      <td>0.157965</td>\n",
              "      <td>0.186078</td>\n",
              "      <td>4.793902</td>\n",
              "    </tr>\n",
              "    <tr>\n",
              "      <th>std</th>\n",
              "      <td>1.000000e+00</td>\n",
              "      <td>1.000000e+00</td>\n",
              "      <td>1.000000e+00</td>\n",
              "      <td>1.000000e+00</td>\n",
              "      <td>1.000000e+00</td>\n",
              "      <td>1.000000e+00</td>\n",
              "      <td>0.500137</td>\n",
              "      <td>0.291618</td>\n",
              "      <td>0.499904</td>\n",
              "      <td>0.481506</td>\n",
              "      <td>0.443777</td>\n",
              "      <td>0.414216</td>\n",
              "      <td>0.479960</td>\n",
              "      <td>0.498977</td>\n",
              "      <td>0.347802</td>\n",
              "      <td>0.196467</td>\n",
              "      <td>0.491341</td>\n",
              "      <td>0.186775</td>\n",
              "      <td>0.342174</td>\n",
              "      <td>0.342174</td>\n",
              "      <td>0.363692</td>\n",
              "      <td>0.274029</td>\n",
              "      <td>0.261339</td>\n",
              "      <td>0.334886</td>\n",
              "      <td>0.364953</td>\n",
              "      <td>0.389430</td>\n",
              "      <td>2.287364</td>\n",
              "    </tr>\n",
              "    <tr>\n",
              "      <th>min</th>\n",
              "      <td>-2.731287e+00</td>\n",
              "      <td>-3.800823e+00</td>\n",
              "      <td>-1.850350e+00</td>\n",
              "      <td>-8.796060e-01</td>\n",
              "      <td>-5.130428e+00</td>\n",
              "      <td>-1.851480e+00</td>\n",
              "      <td>0.000000</td>\n",
              "      <td>0.000000</td>\n",
              "      <td>0.000000</td>\n",
              "      <td>0.000000</td>\n",
              "      <td>0.000000</td>\n",
              "      <td>0.000000</td>\n",
              "      <td>0.000000</td>\n",
              "      <td>1.000000</td>\n",
              "      <td>0.000000</td>\n",
              "      <td>0.000000</td>\n",
              "      <td>0.000000</td>\n",
              "      <td>0.000000</td>\n",
              "      <td>0.000000</td>\n",
              "      <td>0.000000</td>\n",
              "      <td>0.000000</td>\n",
              "      <td>0.000000</td>\n",
              "      <td>0.000000</td>\n",
              "      <td>0.000000</td>\n",
              "      <td>0.000000</td>\n",
              "      <td>0.000000</td>\n",
              "      <td>0.198587</td>\n",
              "    </tr>\n",
              "    <tr>\n",
              "      <th>25%</th>\n",
              "      <td>-6.669461e-01</td>\n",
              "      <td>-6.027100e-01</td>\n",
              "      <td>-7.332610e-01</td>\n",
              "      <td>-8.796060e-01</td>\n",
              "      <td>-5.666720e-01</td>\n",
              "      <td>-8.577868e-01</td>\n",
              "      <td>0.000000</td>\n",
              "      <td>0.000000</td>\n",
              "      <td>0.000000</td>\n",
              "      <td>0.000000</td>\n",
              "      <td>0.000000</td>\n",
              "      <td>0.000000</td>\n",
              "      <td>0.000000</td>\n",
              "      <td>1.000000</td>\n",
              "      <td>0.000000</td>\n",
              "      <td>1.000000</td>\n",
              "      <td>0.000000</td>\n",
              "      <td>1.000000</td>\n",
              "      <td>0.000000</td>\n",
              "      <td>0.000000</td>\n",
              "      <td>0.000000</td>\n",
              "      <td>0.000000</td>\n",
              "      <td>0.000000</td>\n",
              "      <td>0.000000</td>\n",
              "      <td>0.000000</td>\n",
              "      <td>0.000000</td>\n",
              "      <td>3.065484</td>\n",
              "    </tr>\n",
              "    <tr>\n",
              "      <th>50%</th>\n",
              "      <td>1.652752e-01</td>\n",
              "      <td>1.968181e-01</td>\n",
              "      <td>-3.608980e-01</td>\n",
              "      <td>1.617025e-01</td>\n",
              "      <td>1.210172e-01</td>\n",
              "      <td>-2.970882e-02</td>\n",
              "      <td>1.000000</td>\n",
              "      <td>0.000000</td>\n",
              "      <td>1.000000</td>\n",
              "      <td>0.000000</td>\n",
              "      <td>0.000000</td>\n",
              "      <td>0.000000</td>\n",
              "      <td>0.000000</td>\n",
              "      <td>1.000000</td>\n",
              "      <td>0.000000</td>\n",
              "      <td>1.000000</td>\n",
              "      <td>1.000000</td>\n",
              "      <td>1.000000</td>\n",
              "      <td>0.000000</td>\n",
              "      <td>0.000000</td>\n",
              "      <td>0.000000</td>\n",
              "      <td>0.000000</td>\n",
              "      <td>0.000000</td>\n",
              "      <td>0.000000</td>\n",
              "      <td>0.000000</td>\n",
              "      <td>0.000000</td>\n",
              "      <td>4.347682</td>\n",
              "    </tr>\n",
              "    <tr>\n",
              "      <th>75%</th>\n",
              "      <td>8.137593e-01</td>\n",
              "      <td>5.965822e-01</td>\n",
              "      <td>7.561910e-01</td>\n",
              "      <td>1.617025e-01</td>\n",
              "      <td>6.836721e-01</td>\n",
              "      <td>6.327536e-01</td>\n",
              "      <td>1.000000</td>\n",
              "      <td>0.000000</td>\n",
              "      <td>1.000000</td>\n",
              "      <td>1.000000</td>\n",
              "      <td>1.000000</td>\n",
              "      <td>0.000000</td>\n",
              "      <td>1.000000</td>\n",
              "      <td>2.000000</td>\n",
              "      <td>0.000000</td>\n",
              "      <td>1.000000</td>\n",
              "      <td>1.000000</td>\n",
              "      <td>1.000000</td>\n",
              "      <td>0.000000</td>\n",
              "      <td>0.000000</td>\n",
              "      <td>0.000000</td>\n",
              "      <td>0.000000</td>\n",
              "      <td>0.000000</td>\n",
              "      <td>0.000000</td>\n",
              "      <td>0.000000</td>\n",
              "      <td>0.000000</td>\n",
              "      <td>6.497387</td>\n",
              "    </tr>\n",
              "    <tr>\n",
              "      <th>max</th>\n",
              "      <td>1.505476e+00</td>\n",
              "      <td>2.595403e+00</td>\n",
              "      <td>2.990369e+00</td>\n",
              "      <td>2.244320e+00</td>\n",
              "      <td>2.371637e+00</td>\n",
              "      <td>2.951372e+00</td>\n",
              "      <td>1.000000</td>\n",
              "      <td>1.000000</td>\n",
              "      <td>1.000000</td>\n",
              "      <td>1.000000</td>\n",
              "      <td>1.000000</td>\n",
              "      <td>1.000000</td>\n",
              "      <td>1.000000</td>\n",
              "      <td>2.000000</td>\n",
              "      <td>1.000000</td>\n",
              "      <td>1.000000</td>\n",
              "      <td>1.000000</td>\n",
              "      <td>1.000000</td>\n",
              "      <td>1.000000</td>\n",
              "      <td>1.000000</td>\n",
              "      <td>1.000000</td>\n",
              "      <td>1.000000</td>\n",
              "      <td>1.000000</td>\n",
              "      <td>1.000000</td>\n",
              "      <td>1.000000</td>\n",
              "      <td>1.000000</td>\n",
              "      <td>11.312816</td>\n",
              "    </tr>\n",
              "  </tbody>\n",
              "</table>\n",
              "</div>"
            ],
            "text/plain": [
              "                 x1            x2  ...           t     outcome\n",
              "count  7.470000e+02  7.470000e+02  ...  747.000000  747.000000\n",
              "mean   3.061659e-17  2.229364e-17  ...    0.186078    4.793902\n",
              "std    1.000000e+00  1.000000e+00  ...    0.389430    2.287364\n",
              "min   -2.731287e+00 -3.800823e+00  ...    0.000000    0.198587\n",
              "25%   -6.669461e-01 -6.027100e-01  ...    0.000000    3.065484\n",
              "50%    1.652752e-01  1.968181e-01  ...    0.000000    4.347682\n",
              "75%    8.137593e-01  5.965822e-01  ...    0.000000    6.497387\n",
              "max    1.505476e+00  2.595403e+00  ...    1.000000   11.312816\n",
              "\n",
              "[8 rows x 27 columns]"
            ]
          },
          "metadata": {
            "tags": []
          },
          "execution_count": 9
        }
      ]
    },
    {
      "cell_type": "code",
      "metadata": {
        "id": "MEu8_lzCeP0s"
      },
      "source": [
        "dt = data[['x1','x2','x3', 'x4', 'x5', 'x6']]\n",
        "#dt.head()"
      ],
      "execution_count": 10,
      "outputs": []
    },
    {
      "cell_type": "code",
      "metadata": {
        "colab": {
          "base_uri": "https://localhost:8080/",
          "height": 400
        },
        "id": "91Ggc1FRIb5W",
        "outputId": "cf78162f-a0be-40a1-bd64-95683ebb6d14"
      },
      "source": [
        "dt.hist()"
      ],
      "execution_count": 11,
      "outputs": [
        {
          "output_type": "execute_result",
          "data": {
            "text/plain": [
              "array([[<matplotlib.axes._subplots.AxesSubplot object at 0x7f8785114ad0>,\n",
              "        <matplotlib.axes._subplots.AxesSubplot object at 0x7f87850e18d0>],\n",
              "       [<matplotlib.axes._subplots.AxesSubplot object at 0x7f8785097f50>,\n",
              "        <matplotlib.axes._subplots.AxesSubplot object at 0x7f878505a610>],\n",
              "       [<matplotlib.axes._subplots.AxesSubplot object at 0x7f8785010c90>,\n",
              "        <matplotlib.axes._subplots.AxesSubplot object at 0x7f8784fd3350>]],\n",
              "      dtype=object)"
            ]
          },
          "metadata": {
            "tags": []
          },
          "execution_count": 11
        },
        {
          "output_type": "display_data",
          "data": {
            "image/png": "[encoded data removed]",
            "text/plain": [
              "<Figure size 432x288 with 6 Axes>"
            ]
          },
          "metadata": {
            "tags": [],
            "needs_background": "light"
          }
        }
      ]
    },
    {
      "cell_type": "markdown",
      "metadata": {
        "id": "0QoXUFPUI3sZ"
      },
      "source": [
        "####We can see extreme values for 'x2' and 'x3' variable. We will plot a box plots for all these variables to locate presence of outliers, if any."
      ]
    },
    {
      "cell_type": "code",
      "metadata": {
        "colab": {
          "base_uri": "https://localhost:8080/",
          "height": 282
        },
        "id": "0CZ1JYauI1xV",
        "outputId": "89ff3229-3403-4fcf-f6cb-2b68ceea243c"
      },
      "source": [
        "dt.boxplot(column=['x2'])"
      ],
      "execution_count": 12,
      "outputs": [
        {
          "output_type": "execute_result",
          "data": {
            "text/plain": [
              "<matplotlib.axes._subplots.AxesSubplot at 0x7f8784e3ddd0>"
            ]
          },
          "metadata": {
            "tags": []
          },
          "execution_count": 12
        },
        {
          "output_type": "display_data",
          "data": {
            "image/png": "[encoded data removed]",
            "text/plain": [
              "<Figure size 432x288 with 1 Axes>"
            ]
          },
          "metadata": {
            "tags": [],
            "needs_background": "light"
          }
        }
      ]
    },
    {
      "cell_type": "code",
      "metadata": {
        "id": "zV1aVsRMJaqr"
      },
      "source": [
        "#dt.boxplot(column=['x3'])"
      ],
      "execution_count": 13,
      "outputs": []
    },
    {
      "cell_type": "code",
      "metadata": {
        "id": "aHcoWPNoESLC"
      },
      "source": [
        "#dt.boxplot(column=['x1'])"
      ],
      "execution_count": 14,
      "outputs": []
    },
    {
      "cell_type": "code",
      "metadata": {
        "colab": {
          "base_uri": "https://localhost:8080/",
          "height": 282
        },
        "id": "K0l26UXAKjsG",
        "outputId": "ceb28f02-f6f9-4b46-9f3c-4ae1cdc271de"
      },
      "source": [
        "dt.boxplot(column=['x4'])"
      ],
      "execution_count": 15,
      "outputs": [
        {
          "output_type": "execute_result",
          "data": {
            "text/plain": [
              "<matplotlib.axes._subplots.AxesSubplot at 0x7f8785024090>"
            ]
          },
          "metadata": {
            "tags": []
          },
          "execution_count": 15
        },
        {
          "output_type": "display_data",
          "data": {
            "image/png": "[encoded data removed]",
            "text/plain": [
              "<Figure size 432x288 with 1 Axes>"
            ]
          },
          "metadata": {
            "tags": [],
            "needs_background": "light"
          }
        }
      ]
    },
    {
      "cell_type": "code",
      "metadata": {
        "colab": {
          "base_uri": "https://localhost:8080/",
          "height": 282
        },
        "id": "PCu1TTX-Km-r",
        "outputId": "5065ce1d-2c1d-4359-a003-21b245d241c3"
      },
      "source": [
        "dt.boxplot(column=['x5'])"
      ],
      "execution_count": 16,
      "outputs": [
        {
          "output_type": "execute_result",
          "data": {
            "text/plain": [
              "<matplotlib.axes._subplots.AxesSubplot at 0x7f8784932c50>"
            ]
          },
          "metadata": {
            "tags": []
          },
          "execution_count": 16
        },
        {
          "output_type": "display_data",
          "data": {
            "image/png": "[encoded data removed]",
            "text/plain": [
              "<Figure size 432x288 with 1 Axes>"
            ]
          },
          "metadata": {
            "tags": [],
            "needs_background": "light"
          }
        }
      ]
    },
    {
      "cell_type": "code",
      "metadata": {
        "colab": {
          "base_uri": "https://localhost:8080/",
          "height": 282
        },
        "id": "oejFK2nRKqUY",
        "outputId": "9dae62e8-048e-4cb7-f763-8f092a0df90a"
      },
      "source": [
        "dt.boxplot(column=['x6'])"
      ],
      "execution_count": 17,
      "outputs": [
        {
          "output_type": "execute_result",
          "data": {
            "text/plain": [
              "<matplotlib.axes._subplots.AxesSubplot at 0x7f87848a9790>"
            ]
          },
          "metadata": {
            "tags": []
          },
          "execution_count": 17
        },
        {
          "output_type": "display_data",
          "data": {
            "image/png": "[encoded data removed]",
            "text/plain": [
              "<Figure size 432x288 with 1 Axes>"
            ]
          },
          "metadata": {
            "tags": [],
            "needs_background": "light"
          }
        }
      ]
    },
    {
      "cell_type": "markdown",
      "metadata": {
        "id": "mCbdtSirBqWi"
      },
      "source": [
        "#### The wiskers in the boxplot for variables x2, x4, x5 & x6, are present outliers.                                                                       The Inner Quertile Range (IQR) is the distance between the upper and lower quartiles.                                                                    We will use the 1.5 * IQR rule to remove outliers."
      ]
    },
    {
      "cell_type": "code",
      "metadata": {
        "id": "KUWAB_VGBX4x"
      },
      "source": [
        "# Function to compute the lower range and upper range of values to keep (1.5 x IQR)\n",
        "def range_keep(column):\n",
        "    sorted(column)\n",
        "    Q1,Q3 = np.percentile(column , [25,75]) # 25th to 75th percentile (interquartile range)\n",
        "    IQR = Q3 - Q1\n",
        "    lower_range = Q1 - (1.5 * IQR)\n",
        "    upper_range = Q3 + (1.5 * IQR)\n",
        "    return lower_range, upper_range"
      ],
      "execution_count": 18,
      "outputs": []
    },
    {
      "cell_type": "code",
      "metadata": {
        "colab": {
          "base_uri": "https://localhost:8080/"
        },
        "id": "ZbffoRJJBy09",
        "outputId": "fb0aafaf-7189-4d64-b46e-575edf42ec40"
      },
      "source": [
        "# Compute the lower range and upper range for column 'x2'\n",
        "lower_range, upper_range = range_keep(dt['x2'])\n",
        "print(lower_range, upper_range)\n",
        "\n",
        "# Keep only values that lie between that range\n",
        "data = data.drop(data[(data['x2'] > upper_range) | (data['x2'] < lower_range)].index)\n",
        "\n",
        "data.shape"
      ],
      "execution_count": 19,
      "outputs": [
        {
          "output_type": "stream",
          "text": [
            "-2.401648294142248 2.3955204746270993\n"
          ],
          "name": "stdout"
        },
        {
          "output_type": "execute_result",
          "data": {
            "text/plain": [
              "(734, 27)"
            ]
          },
          "metadata": {
            "tags": []
          },
          "execution_count": 19
        }
      ]
    },
    {
      "cell_type": "code",
      "metadata": {
        "colab": {
          "base_uri": "https://localhost:8080/"
        },
        "id": "qz92XI1pCn45",
        "outputId": "02cb35aa-eb69-44da-a6b9-96826e1f2178"
      },
      "source": [
        "# Compute the lower range and upper range for column 'x5'\n",
        "lower_range, upper_range = range_keep(data['x5'])\n",
        "print(lower_range, upper_range)\n",
        "\n",
        "# Keep only values that lie between that range\n",
        "data = data.drop(data[(data['x5'] > upper_range) | (data['x5'] < lower_range)].index)\n",
        "\n",
        "data.shape"
      ],
      "execution_count": 20,
      "outputs": [
        {
          "output_type": "stream",
          "text": [
            "-2.2858950564351455 2.4654123243082986\n"
          ],
          "name": "stdout"
        },
        {
          "output_type": "execute_result",
          "data": {
            "text/plain": [
              "(715, 27)"
            ]
          },
          "metadata": {
            "tags": []
          },
          "execution_count": 20
        }
      ]
    },
    {
      "cell_type": "code",
      "metadata": {
        "colab": {
          "base_uri": "https://localhost:8080/"
        },
        "id": "VDrdsxPNDFxQ",
        "outputId": "d5a40584-e118-4e8a-b117-219b9b0cc076"
      },
      "source": [
        "# Compute the lower range and upper range for column 'x4'\n",
        "lower_range, upper_range = range_keep(data['x4'])\n",
        "print(lower_range, upper_range)\n",
        "\n",
        "# Keep only values that lie between that range\n",
        "data = data.drop(data[(data['x4'] > upper_range) | (data['x4'] < lower_range)].index)\n",
        "\n",
        "data.shape"
      ],
      "execution_count": 21,
      "outputs": [
        {
          "output_type": "stream",
          "text": [
            "-2.441568761061762 1.7236653000587305\n"
          ],
          "name": "stdout"
        },
        {
          "output_type": "execute_result",
          "data": {
            "text/plain": [
              "(653, 27)"
            ]
          },
          "metadata": {
            "tags": []
          },
          "execution_count": 21
        }
      ]
    },
    {
      "cell_type": "code",
      "metadata": {
        "colab": {
          "base_uri": "https://localhost:8080/"
        },
        "id": "PY4X7pjjDOfv",
        "outputId": "61feb279-57fb-422c-f79f-16b9c0d31fd0"
      },
      "source": [
        "# Compute the lower range and upper range for column 'x6'\n",
        "lower_range, upper_range = range_keep(data['x6'])\n",
        "print(lower_range, upper_range)\n",
        "\n",
        "# Keep only values that lie between that range\n",
        "data = data.drop(data[(data['x6'] > upper_range) | (data['x6'] < lower_range)].index)\n",
        "\n",
        "data.shape"
      ],
      "execution_count": 22,
      "outputs": [
        {
          "output_type": "stream",
          "text": [
            "-3.0935973224691447 2.8685640847648997\n"
          ],
          "name": "stdout"
        },
        {
          "output_type": "execute_result",
          "data": {
            "text/plain": [
              "(652, 27)"
            ]
          },
          "metadata": {
            "tags": []
          },
          "execution_count": 22
        }
      ]
    },
    {
      "cell_type": "code",
      "metadata": {
        "colab": {
          "base_uri": "https://localhost:8080/",
          "height": 204
        },
        "id": "0OkYeN7rf6fe",
        "outputId": "dfaaa6aa-ae9b-4cda-c4a0-3bd7eb64c0c8"
      },
      "source": [
        "df = data[['x1','x2','x3', 'x4', 'x5', 'x6']]\n",
        "df.head()"
      ],
      "execution_count": 23,
      "outputs": [
        {
          "output_type": "execute_result",
          "data": {
            "text/html": [
              "<div>\n",
              "<style scoped>\n",
              "    .dataframe tbody tr th:only-of-type {\n",
              "        vertical-align: middle;\n",
              "    }\n",
              "\n",
              "    .dataframe tbody tr th {\n",
              "        vertical-align: top;\n",
              "    }\n",
              "\n",
              "    .dataframe thead th {\n",
              "        text-align: right;\n",
              "    }\n",
              "</style>\n",
              "<table border=\"1\" class=\"dataframe\">\n",
              "  <thead>\n",
              "    <tr style=\"text-align: right;\">\n",
              "      <th></th>\n",
              "      <th>x1</th>\n",
              "      <th>x2</th>\n",
              "      <th>x3</th>\n",
              "      <th>x4</th>\n",
              "      <th>x5</th>\n",
              "      <th>x6</th>\n",
              "    </tr>\n",
              "  </thead>\n",
              "  <tbody>\n",
              "    <tr>\n",
              "      <th>0</th>\n",
              "      <td>-0.158967</td>\n",
              "      <td>-2.201766</td>\n",
              "      <td>-0.733261</td>\n",
              "      <td>-0.879606</td>\n",
              "      <td>-0.379120</td>\n",
              "      <td>-0.857787</td>\n",
              "    </tr>\n",
              "    <tr>\n",
              "      <th>1</th>\n",
              "      <td>-1.045229</td>\n",
              "      <td>-1.337276</td>\n",
              "      <td>1.128554</td>\n",
              "      <td>-0.879606</td>\n",
              "      <td>0.683672</td>\n",
              "      <td>0.301522</td>\n",
              "    </tr>\n",
              "    <tr>\n",
              "      <th>2</th>\n",
              "      <td>-0.785835</td>\n",
              "      <td>-0.602710</td>\n",
              "      <td>0.011465</td>\n",
              "      <td>0.161703</td>\n",
              "      <td>0.371086</td>\n",
              "      <td>-1.189018</td>\n",
              "    </tr>\n",
              "    <tr>\n",
              "      <th>3</th>\n",
              "      <td>-0.245431</td>\n",
              "      <td>-0.202946</td>\n",
              "      <td>0.011465</td>\n",
              "      <td>1.203011</td>\n",
              "      <td>0.058500</td>\n",
              "      <td>-0.526556</td>\n",
              "    </tr>\n",
              "    <tr>\n",
              "      <th>4</th>\n",
              "      <td>-1.875288</td>\n",
              "      <td>-1.802002</td>\n",
              "      <td>1.873280</td>\n",
              "      <td>1.203011</td>\n",
              "      <td>0.058500</td>\n",
              "      <td>0.963985</td>\n",
              "    </tr>\n",
              "  </tbody>\n",
              "</table>\n",
              "</div>"
            ],
            "text/plain": [
              "         x1        x2        x3        x4        x5        x6\n",
              "0 -0.158967 -2.201766 -0.733261 -0.879606 -0.379120 -0.857787\n",
              "1 -1.045229 -1.337276  1.128554 -0.879606  0.683672  0.301522\n",
              "2 -0.785835 -0.602710  0.011465  0.161703  0.371086 -1.189018\n",
              "3 -0.245431 -0.202946  0.011465  1.203011  0.058500 -0.526556\n",
              "4 -1.875288 -1.802002  1.873280  1.203011  0.058500  0.963985"
            ]
          },
          "metadata": {
            "tags": []
          },
          "execution_count": 23
        }
      ]
    },
    {
      "cell_type": "code",
      "metadata": {
        "colab": {
          "base_uri": "https://localhost:8080/",
          "height": 400
        },
        "id": "2gUskxG2D9je",
        "outputId": "f15f7cc2-b4ad-49c3-a10c-9b1f16c6ced6"
      },
      "source": [
        "df.hist()"
      ],
      "execution_count": 24,
      "outputs": [
        {
          "output_type": "execute_result",
          "data": {
            "text/plain": [
              "array([[<matplotlib.axes._subplots.AxesSubplot object at 0x7f8784535410>,\n",
              "        <matplotlib.axes._subplots.AxesSubplot object at 0x7f8784561b50>],\n",
              "       [<matplotlib.axes._subplots.AxesSubplot object at 0x7f8784520210>,\n",
              "        <matplotlib.axes._subplots.AxesSubplot object at 0x7f87844d4810>],\n",
              "       [<matplotlib.axes._subplots.AxesSubplot object at 0x7f878448ce90>,\n",
              "        <matplotlib.axes._subplots.AxesSubplot object at 0x7f878444e550>]],\n",
              "      dtype=object)"
            ]
          },
          "metadata": {
            "tags": []
          },
          "execution_count": 24
        },
        {
          "output_type": "display_data",
          "data": {
            "image/png": "[encoded data removed]",
            "text/plain": [
              "<Figure size 432x288 with 6 Axes>"
            ]
          },
          "metadata": {
            "tags": [],
            "needs_background": "light"
          }
        }
      ]
    },
    {
      "cell_type": "markdown",
      "metadata": {
        "id": "3ahAXyYzUJMa"
      },
      "source": [
        "#Section 2: Data Modeling :                                                   \n",
        " We are going to try and compare some popular supervise learning models. Since the outcome variable is contiuous, we will pick one of regression methods such as linear regressin, decision tree, random forest or gradient boosting methods.\n"
      ]
    },
    {
      "cell_type": "markdown",
      "metadata": {
        "id": "8KWWw9r6Ty7_"
      },
      "source": [
        "####Prepare the input and target variables. Extract the target variable 'y'"
      ]
    },
    {
      "cell_type": "code",
      "metadata": {
        "colab": {
          "base_uri": "https://localhost:8080/"
        },
        "id": "1mVGi7a8Hmk1",
        "outputId": "40468d5c-a813-4a3e-deff-9be7ae61015f"
      },
      "source": [
        "y = data['outcome']\n",
        "y.head()"
      ],
      "execution_count": 25,
      "outputs": [
        {
          "output_type": "execute_result",
          "data": {
            "text/plain": [
              "0    3.976909\n",
              "1    6.455608\n",
              "2    5.344970\n",
              "3    7.024344\n",
              "4    6.126817\n",
              "Name: outcome, dtype: float64"
            ]
          },
          "metadata": {
            "tags": []
          },
          "execution_count": 25
        }
      ]
    },
    {
      "cell_type": "markdown",
      "metadata": {
        "id": "fiWrEzHlH_gP"
      },
      "source": [
        "#### Extract the input variable 'X'"
      ]
    },
    {
      "cell_type": "code",
      "metadata": {
        "colab": {
          "base_uri": "https://localhost:8080/"
        },
        "id": "kQsNG6AtIGrM",
        "outputId": "eb06e7dd-d377-4e0a-8c0b-3560cbbdd638"
      },
      "source": [
        "X = data.drop(columns={'outcome'})\n",
        "X.head()\n",
        "X.shape"
      ],
      "execution_count": 26,
      "outputs": [
        {
          "output_type": "execute_result",
          "data": {
            "text/plain": [
              "(652, 26)"
            ]
          },
          "metadata": {
            "tags": []
          },
          "execution_count": 26
        }
      ]
    },
    {
      "cell_type": "markdown",
      "metadata": {
        "id": "ycDhQTqaIuLz"
      },
      "source": [
        "#### Split training and test tests into 70:30 ratio. 70 % of data will be used for training (and validation), 30 % for test."
      ]
    },
    {
      "cell_type": "code",
      "metadata": {
        "id": "hTzkFWvQOhUv"
      },
      "source": [
        "from sklearn.model_selection import train_test_split\n",
        "X_train, X_test, y_train, y_test = train_test_split(X, y, test_size=0.3, random_state=2)"
      ],
      "execution_count": 27,
      "outputs": []
    },
    {
      "cell_type": "markdown",
      "metadata": {
        "id": "Gmj_LEV4vuzY"
      },
      "source": [
        "## 2.1 Linear Regression"
      ]
    },
    {
      "cell_type": "markdown",
      "metadata": {
        "id": "YcoR5iJOPYx1"
      },
      "source": [
        "Scale features (for linear regression)                                        \n",
        "Feature scaling :\n",
        "\n",
        "Range from 0 to 1                                                               \n",
        "'Fit' on training data only                                                     \n",
        "'Transform' on training and test data"
      ]
    },
    {
      "cell_type": "code",
      "metadata": {
        "id": "li8VI3zBPsj5"
      },
      "source": [
        "from sklearn.preprocessing import MinMaxScaler\n",
        "\n",
        "# Scaler for X\n",
        "scaler_x = MinMaxScaler(feature_range=(0,1))\n",
        "X_train_scaled = scaler_x.fit_transform(X_train)\n",
        "X_test_scaled = scaler_x.transform(X_test)"
      ],
      "execution_count": 28,
      "outputs": []
    },
    {
      "cell_type": "code",
      "metadata": {
        "colab": {
          "base_uri": "https://localhost:8080/"
        },
        "id": "xTxCY5PVPagL",
        "outputId": "7eaaa81a-c9d0-4a9d-ec50-08ce1c8ac162"
      },
      "source": [
        "from sklearn.linear_model import LinearRegression\n",
        "\n",
        "lin_reg = LinearRegression()\n",
        "\n",
        "# Model evaluation by cross-validation\n",
        "lin_reg_score = cross_val_score(lin_reg, X_train_scaled, y_train, verbose = 2)\n",
        "\n",
        "# Average Coefficient of determination (R^2) on the validation set\n",
        "print(f'R^2 Validation: {lin_reg_score.mean()}')"
      ],
      "execution_count": 29,
      "outputs": [
        {
          "output_type": "stream",
          "text": [
            "[CV]  ................................................................\n",
            "[CV] ................................................. , total=   0.1s\n",
            "[CV]  ................................................................\n",
            "[CV] ................................................. , total=   0.0s\n",
            "[CV]  ................................................................\n",
            "[CV] ................................................. , total=   0.0s\n",
            "[CV]  ................................................................\n",
            "[CV] ................................................. , total=   0.0s\n",
            "[CV]  ................................................................\n",
            "[CV] ................................................. , total=   0.0s\n",
            "R^2 Validation: 0.7342644286951063\n"
          ],
          "name": "stdout"
        },
        {
          "output_type": "stream",
          "text": [
            "[Parallel(n_jobs=1)]: Using backend SequentialBackend with 1 concurrent workers.\n",
            "[Parallel(n_jobs=1)]: Done   1 out of   1 | elapsed:    0.1s remaining:    0.0s\n",
            "[Parallel(n_jobs=1)]: Done   5 out of   5 | elapsed:    0.1s finished\n"
          ],
          "name": "stderr"
        }
      ]
    },
    {
      "cell_type": "code",
      "metadata": {
        "colab": {
          "base_uri": "https://localhost:8080/"
        },
        "id": "CDdmnNp9vvGB",
        "outputId": "12344d66-cd4d-4d7f-e64a-1abf73b2768b"
      },
      "source": [
        "# Fit the model to the training set\n",
        "lin_reg.fit(X_train_scaled, y_train)"
      ],
      "execution_count": 30,
      "outputs": [
        {
          "output_type": "execute_result",
          "data": {
            "text/plain": [
              "LinearRegression(copy_X=True, fit_intercept=True, n_jobs=None, normalize=False)"
            ]
          },
          "metadata": {
            "tags": []
          },
          "execution_count": 30
        }
      ]
    },
    {
      "cell_type": "code",
      "metadata": {
        "id": "kmrV4I4lVh_r"
      },
      "source": [
        "# Compute predictions from the test set\n",
        "y_pred = lin_reg.predict(X_test_scaled)"
      ],
      "execution_count": 31,
      "outputs": []
    },
    {
      "cell_type": "code",
      "metadata": {
        "colab": {
          "base_uri": "https://localhost:8080/"
        },
        "id": "S0Xfvww1Vr4T",
        "outputId": "a14faa6c-d98e-4e07-923f-507a16f01c64"
      },
      "source": [
        "# Coefficient of determination (R^2) on the test set\n",
        "print(f'R^2 Test: {lin_reg.score(X_test_scaled, y_test)}')"
      ],
      "execution_count": 32,
      "outputs": [
        {
          "output_type": "stream",
          "text": [
            "R^2 Test: 0.7630613492042773\n"
          ],
          "name": "stdout"
        }
      ]
    },
    {
      "cell_type": "code",
      "metadata": {
        "colab": {
          "base_uri": "https://localhost:8080/"
        },
        "id": "vwdnO_PWVwM1",
        "outputId": "2b25313d-f519-4441-c7a7-68c6b3005483"
      },
      "source": [
        "print(f'RMSE Test: {np.sqrt(mean_squared_error(y_test, y_pred))}')"
      ],
      "execution_count": 33,
      "outputs": [
        {
          "output_type": "stream",
          "text": [
            "RMSE Test: 1.1215994621040886\n"
          ],
          "name": "stdout"
        }
      ]
    },
    {
      "cell_type": "code",
      "metadata": {
        "colab": {
          "base_uri": "https://localhost:8080/",
          "height": 367
        },
        "id": "NNzPS_9YV0Qj",
        "outputId": "d644beda-6b21-498b-d904-5ab530d5ef09"
      },
      "source": [
        "# Visualize the predictions (in blue) against the actual values (in red)\n",
        "ax1 = sns.distplot(y_test, hist=False, color='r', label='actual')\n",
        "sns_plot = sns.distplot(y_pred, hist=False, color='b',label='prediction', ax=ax1)\n",
        "\n",
        "# Save the figure to a file\n",
        "sns_plot.get_figure().savefig(\"lin_reg.png\")"
      ],
      "execution_count": 34,
      "outputs": [
        {
          "output_type": "stream",
          "text": [
            "/usr/local/lib/python3.7/dist-packages/seaborn/distributions.py:2557: FutureWarning: `distplot` is a deprecated function and will be removed in a future version. Please adapt your code to use either `displot` (a figure-level function with similar flexibility) or `kdeplot` (an axes-level function for kernel density plots).\n",
            "  warnings.warn(msg, FutureWarning)\n",
            "/usr/local/lib/python3.7/dist-packages/seaborn/distributions.py:2557: FutureWarning: `distplot` is a deprecated function and will be removed in a future version. Please adapt your code to use either `displot` (a figure-level function with similar flexibility) or `kdeplot` (an axes-level function for kernel density plots).\n",
            "  warnings.warn(msg, FutureWarning)\n"
          ],
          "name": "stderr"
        },
        {
          "output_type": "display_data",
          "data": {
            "image/png": "[encoded data removed]",
            "text/plain": [
              "<Figure size 432x288 with 1 Axes>"
            ]
          },
          "metadata": {
            "tags": [],
            "needs_background": "light"
          }
        }
      ]
    },
    {
      "cell_type": "markdown",
      "metadata": {
        "id": "GOKWkTjeWI3X"
      },
      "source": [
        "##2.2 Decision Tree\n"
      ]
    },
    {
      "cell_type": "code",
      "metadata": {
        "id": "Uwa6S2upYkTb"
      },
      "source": [
        ""
      ],
      "execution_count": 34,
      "outputs": []
    },
    {
      "cell_type": "markdown",
      "metadata": {
        "id": "rDpzh7XoJ0m0"
      },
      "source": [
        "##### For hyperparameter tuning, (to find the optimal hyperparameters) of a model which results in the most 'accurate' predictions. Two available options are GridSearchCV and RandomizedSearchCV. In GridsearchCV we predefine hyperparameters and fit the model to attain better prediction, which can be computaionally expensive. However, RandomizedSearchCV use random combinations of hyperparameters to find best fit solution.  \n",
        "For this project we are using GridSearchCV."
      ]
    },
    {
      "cell_type": "code",
      "metadata": {
        "id": "JSX24OzXWCe8"
      },
      "source": [
        "from sklearn.tree import DecisionTreeRegressor   ### Importing Decision Tree regressor for further analysis\n",
        "clf =DecisionTreeRegressor()"
      ],
      "execution_count": 35,
      "outputs": []
    },
    {
      "cell_type": "code",
      "metadata": {
        "colab": {
          "base_uri": "https://localhost:8080/"
        },
        "id": "ayqCWFd5Yf27",
        "outputId": "3c20c1af-a883-48ab-83b9-c869050f72db"
      },
      "source": [
        "clf.fit(X_train, y_train)"
      ],
      "execution_count": 36,
      "outputs": [
        {
          "output_type": "execute_result",
          "data": {
            "text/plain": [
              "DecisionTreeRegressor(ccp_alpha=0.0, criterion='mse', max_depth=None,\n",
              "                      max_features=None, max_leaf_nodes=None,\n",
              "                      min_impurity_decrease=0.0, min_impurity_split=None,\n",
              "                      min_samples_leaf=1, min_samples_split=2,\n",
              "                      min_weight_fraction_leaf=0.0, presort='deprecated',\n",
              "                      random_state=None, splitter='best')"
            ]
          },
          "metadata": {
            "tags": []
          },
          "execution_count": 36
        }
      ]
    },
    {
      "cell_type": "code",
      "metadata": {
        "id": "By1QhMqbY4lK"
      },
      "source": [
        "y_pred = clf.predict(X_test)"
      ],
      "execution_count": 37,
      "outputs": []
    },
    {
      "cell_type": "code",
      "metadata": {
        "id": "skhKwtK3ZISh"
      },
      "source": [
        "from sklearn.metrics import accuracy_score\n",
        "# accuracy_score(y_test, y_pred)"
      ],
      "execution_count": 38,
      "outputs": []
    },
    {
      "cell_type": "code",
      "metadata": {
        "colab": {
          "base_uri": "https://localhost:8080/"
        },
        "id": "5JkwGKIpZJPp",
        "outputId": "8f3d82ad-d042-4a49-e7b4-7affe349f5a1"
      },
      "source": [
        "clf.score(X_test, y_test)"
      ],
      "execution_count": 39,
      "outputs": [
        {
          "output_type": "execute_result",
          "data": {
            "text/plain": [
              "0.5689663505190807"
            ]
          },
          "metadata": {
            "tags": []
          },
          "execution_count": 39
        }
      ]
    },
    {
      "cell_type": "code",
      "metadata": {
        "id": "iifPZAi4ZL80"
      },
      "source": [
        "param_dict = {\n",
        "    'criterion':['mse', 'gini', 'entropy'],\n",
        "    'max_depth':[1,2,3,4,5,6,None]\n",
        "}"
      ],
      "execution_count": 40,
      "outputs": []
    },
    {
      "cell_type": "code",
      "metadata": {
        "id": "unqPWcC7ZOi3"
      },
      "source": [
        "from sklearn.model_selection import GridSearchCV\n",
        "grid = GridSearchCV(clf, param_grid= param_dict, cv=10, n_jobs=-1)"
      ],
      "execution_count": 41,
      "outputs": []
    },
    {
      "cell_type": "code",
      "metadata": {
        "colab": {
          "base_uri": "https://localhost:8080/"
        },
        "id": "6OAfKuXtZjld",
        "outputId": "0238a428-3ede-4fce-f56d-bd73e66f935e"
      },
      "source": [
        "grid.fit(X_train, y_train)"
      ],
      "execution_count": 42,
      "outputs": [
        {
          "output_type": "execute_result",
          "data": {
            "text/plain": [
              "GridSearchCV(cv=10, error_score=nan,\n",
              "             estimator=DecisionTreeRegressor(ccp_alpha=0.0, criterion='mse',\n",
              "                                             max_depth=None, max_features=None,\n",
              "                                             max_leaf_nodes=None,\n",
              "                                             min_impurity_decrease=0.0,\n",
              "                                             min_impurity_split=None,\n",
              "                                             min_samples_leaf=1,\n",
              "                                             min_samples_split=2,\n",
              "                                             min_weight_fraction_leaf=0.0,\n",
              "                                             presort='deprecated',\n",
              "                                             random_state=None,\n",
              "                                             splitter='best'),\n",
              "             iid='deprecated', n_jobs=-1,\n",
              "             param_grid={'criterion': ['mse', 'gini', 'entropy'],\n",
              "                         'max_depth': [1, 2, 3, 4, 5, 6, None]},\n",
              "             pre_dispatch='2*n_jobs', refit=True, return_train_score=False,\n",
              "             scoring=None, verbose=0)"
            ]
          },
          "metadata": {
            "tags": []
          },
          "execution_count": 42
        }
      ]
    },
    {
      "cell_type": "code",
      "metadata": {
        "colab": {
          "base_uri": "https://localhost:8080/"
        },
        "id": "zVtoKRG7ZRy-",
        "outputId": "563d26ac-a873-4471-8c84-ae1186b1e42f"
      },
      "source": [
        "grid.best_estimator_"
      ],
      "execution_count": 43,
      "outputs": [
        {
          "output_type": "execute_result",
          "data": {
            "text/plain": [
              "DecisionTreeRegressor(ccp_alpha=0.0, criterion='mse', max_depth=5,\n",
              "                      max_features=None, max_leaf_nodes=None,\n",
              "                      min_impurity_decrease=0.0, min_impurity_split=None,\n",
              "                      min_samples_leaf=1, min_samples_split=2,\n",
              "                      min_weight_fraction_leaf=0.0, presort='deprecated',\n",
              "                      random_state=None, splitter='best')"
            ]
          },
          "metadata": {
            "tags": []
          },
          "execution_count": 43
        }
      ]
    },
    {
      "cell_type": "code",
      "metadata": {
        "colab": {
          "base_uri": "https://localhost:8080/"
        },
        "id": "eDWmb2SfZqlG",
        "outputId": "43d52fa6-2ba8-4e19-f21c-e84dfd1e7418"
      },
      "source": [
        "grid.best_score_"
      ],
      "execution_count": 44,
      "outputs": [
        {
          "output_type": "execute_result",
          "data": {
            "text/plain": [
              "0.6692304061401634"
            ]
          },
          "metadata": {
            "tags": []
          },
          "execution_count": 44
        }
      ]
    },
    {
      "cell_type": "markdown",
      "metadata": {
        "id": "Kpbw8xkbZxpX"
      },
      "source": [
        "## 2.3 Random Forest"
      ]
    },
    {
      "cell_type": "code",
      "metadata": {
        "colab": {
          "base_uri": "https://localhost:8080/"
        },
        "id": "N9wE6HboaaLZ",
        "outputId": "2a6a5edd-32fb-4cdb-97d0-b6b4702a9294"
      },
      "source": [
        "from sklearn.ensemble import RandomForestRegressor\n",
        "reg = RandomForestRegressor()\n",
        "reg.fit(X_train, y_train)"
      ],
      "execution_count": 45,
      "outputs": [
        {
          "output_type": "execute_result",
          "data": {
            "text/plain": [
              "RandomForestRegressor(bootstrap=True, ccp_alpha=0.0, criterion='mse',\n",
              "                      max_depth=None, max_features='auto', max_leaf_nodes=None,\n",
              "                      max_samples=None, min_impurity_decrease=0.0,\n",
              "                      min_impurity_split=None, min_samples_leaf=1,\n",
              "                      min_samples_split=2, min_weight_fraction_leaf=0.0,\n",
              "                      n_estimators=100, n_jobs=None, oob_score=False,\n",
              "                      random_state=None, verbose=0, warm_start=False)"
            ]
          },
          "metadata": {
            "tags": []
          },
          "execution_count": 45
        }
      ]
    },
    {
      "cell_type": "code",
      "metadata": {
        "id": "YvcJkPZsaqeS"
      },
      "source": [
        "y_rpred = reg.predict(X_test)"
      ],
      "execution_count": 46,
      "outputs": []
    },
    {
      "cell_type": "code",
      "metadata": {
        "colab": {
          "base_uri": "https://localhost:8080/"
        },
        "id": "OICdPMTMa6_r",
        "outputId": "5b6719f2-a46a-4716-c8b7-4046ba7e4a2d"
      },
      "source": [
        "reg.score(X_test, y_test)"
      ],
      "execution_count": 47,
      "outputs": [
        {
          "output_type": "execute_result",
          "data": {
            "text/plain": [
              "0.7737312644817527"
            ]
          },
          "metadata": {
            "tags": []
          },
          "execution_count": 47
        }
      ]
    },
    {
      "cell_type": "code",
      "metadata": {
        "id": "b8GAIJR0bAfK"
      },
      "source": [
        "# Hyperparameter values to feed to the GridSearchCV\n",
        "param_grid = {'max_features': ['auto', 'sqrt'], # Number of features to consider at every split\n",
        "               'max_depth': np.arange(5, 41, 5), # Maximum number of levels in tree\n",
        "               'min_samples_split': [5, 10, 20, 40], # Minimum number of samples required to split a node\n",
        "               'min_samples_leaf': [2, 6, 12, 24], # Minimum number of samples required at each leaf node\n",
        "               }"
      ],
      "execution_count": 48,
      "outputs": []
    },
    {
      "cell_type": "code",
      "metadata": {
        "id": "aExeWm7qF700"
      },
      "source": [
        "rfor_grid = GridSearchCV(clf, param_grid= param_dict, cv=10, n_jobs=-1)"
      ],
      "execution_count": 49,
      "outputs": []
    },
    {
      "cell_type": "code",
      "metadata": {
        "colab": {
          "base_uri": "https://localhost:8080/"
        },
        "id": "oR5w6wYrF_ep",
        "outputId": "3e827cf6-70b5-438e-f20d-601a7794a266"
      },
      "source": [
        "rfor_grid.fit(X_train, y_train)"
      ],
      "execution_count": 50,
      "outputs": [
        {
          "output_type": "execute_result",
          "data": {
            "text/plain": [
              "GridSearchCV(cv=10, error_score=nan,\n",
              "             estimator=DecisionTreeRegressor(ccp_alpha=0.0, criterion='mse',\n",
              "                                             max_depth=None, max_features=None,\n",
              "                                             max_leaf_nodes=None,\n",
              "                                             min_impurity_decrease=0.0,\n",
              "                                             min_impurity_split=None,\n",
              "                                             min_samples_leaf=1,\n",
              "                                             min_samples_split=2,\n",
              "                                             min_weight_fraction_leaf=0.0,\n",
              "                                             presort='deprecated',\n",
              "                                             random_state=None,\n",
              "                                             splitter='best'),\n",
              "             iid='deprecated', n_jobs=-1,\n",
              "             param_grid={'criterion': ['mse', 'gini', 'entropy'],\n",
              "                         'max_depth': [1, 2, 3, 4, 5, 6, None]},\n",
              "             pre_dispatch='2*n_jobs', refit=True, return_train_score=False,\n",
              "             scoring=None, verbose=0)"
            ]
          },
          "metadata": {
            "tags": []
          },
          "execution_count": 50
        }
      ]
    },
    {
      "cell_type": "code",
      "metadata": {
        "colab": {
          "base_uri": "https://localhost:8080/"
        },
        "id": "KsmyqsCdGCLa",
        "outputId": "b24c9bdb-5e95-4ff3-b43e-5d0be5c4fc4b"
      },
      "source": [
        "rfor_grid.best_estimator_"
      ],
      "execution_count": 51,
      "outputs": [
        {
          "output_type": "execute_result",
          "data": {
            "text/plain": [
              "DecisionTreeRegressor(ccp_alpha=0.0, criterion='mse', max_depth=5,\n",
              "                      max_features=None, max_leaf_nodes=None,\n",
              "                      min_impurity_decrease=0.0, min_impurity_split=None,\n",
              "                      min_samples_leaf=1, min_samples_split=2,\n",
              "                      min_weight_fraction_leaf=0.0, presort='deprecated',\n",
              "                      random_state=None, splitter='best')"
            ]
          },
          "metadata": {
            "tags": []
          },
          "execution_count": 51
        }
      ]
    },
    {
      "cell_type": "code",
      "metadata": {
        "colab": {
          "base_uri": "https://localhost:8080/"
        },
        "id": "EnWFn7fyGOWT",
        "outputId": "7fece916-8cf9-45dc-a8d8-439fdde18e53"
      },
      "source": [
        "rfor_grid.best_score_"
      ],
      "execution_count": 52,
      "outputs": [
        {
          "output_type": "execute_result",
          "data": {
            "text/plain": [
              "0.6684274528330301"
            ]
          },
          "metadata": {
            "tags": []
          },
          "execution_count": 52
        }
      ]
    },
    {
      "cell_type": "code",
      "metadata": {
        "colab": {
          "base_uri": "https://localhost:8080/"
        },
        "id": "VWZhoWezYOWv",
        "outputId": "751ef3b2-5df4-46e5-cae7-ad01fb32c9af"
      },
      "source": [
        "# Check the cross-validation evaluation metric of the best estimator\n",
        "print(f'R^2 Validation: {rfor_grid.best_score_}')"
      ],
      "execution_count": 53,
      "outputs": [
        {
          "output_type": "stream",
          "text": [
            "R^2 Validation: 0.6684274528330301\n"
          ],
          "name": "stdout"
        }
      ]
    },
    {
      "cell_type": "code",
      "metadata": {
        "colab": {
          "base_uri": "https://localhost:8080/"
        },
        "id": "BV5R0D1jYRD5",
        "outputId": "cd931b9e-d226-4d5a-a26f-56a91f529a93"
      },
      "source": [
        "# Check the features which are considered as most important in making predictions\n",
        "sorted(dict(zip(X_train.columns, rfor_grid.best_estimator_.feature_importances_)).items(), key=lambda x: x[1], reverse=True)"
      ],
      "execution_count": 54,
      "outputs": [
        {
          "output_type": "execute_result",
          "data": {
            "text/plain": [
              "[('t', 0.5571335933109883),\n",
              " ('x12', 0.16808868141496244),\n",
              " ('x9', 0.10244233626062824),\n",
              " ('x5', 0.08921728571107791),\n",
              " ('x23', 0.04436193583085429),\n",
              " ('x1', 0.012304937686929562),\n",
              " ('x6', 0.010022467010905983),\n",
              " ('x2', 0.00504684205205832),\n",
              " ('x3', 0.0038960282086857325),\n",
              " ('x7', 0.0030230060510265757),\n",
              " ('x4', 0.002342812175308158),\n",
              " ('x10', 0.001587968229936549),\n",
              " ('x8', 0.0005321060566379777),\n",
              " ('x11', 0.0),\n",
              " ('x13', 0.0),\n",
              " ('x14', 0.0),\n",
              " ('x15', 0.0),\n",
              " ('x16', 0.0),\n",
              " ('x17', 0.0),\n",
              " ('x18', 0.0),\n",
              " ('x19', 0.0),\n",
              " ('x20', 0.0),\n",
              " ('x21', 0.0),\n",
              " ('x22', 0.0),\n",
              " ('x24', 0.0),\n",
              " ('x25', 0.0)]"
            ]
          },
          "metadata": {
            "tags": []
          },
          "execution_count": 54
        }
      ]
    },
    {
      "cell_type": "code",
      "metadata": {
        "id": "G52mXzs6YVW6"
      },
      "source": [
        "# Compute predictions from the test set\n",
        "y_pred = rfor_grid.predict(X_test)"
      ],
      "execution_count": 55,
      "outputs": []
    },
    {
      "cell_type": "code",
      "metadata": {
        "colab": {
          "base_uri": "https://localhost:8080/"
        },
        "id": "BUj5xSXkYfeM",
        "outputId": "47c41cd8-eba9-4a04-a508-5b302487f384"
      },
      "source": [
        "# Coefficient of determination (R^2) on the test set\n",
        "print(f'R^2 Test: {rfor_grid.score(X_test, y_test)}')"
      ],
      "execution_count": 56,
      "outputs": [
        {
          "output_type": "stream",
          "text": [
            "R^2 Test: 0.692807432267402\n"
          ],
          "name": "stdout"
        }
      ]
    },
    {
      "cell_type": "code",
      "metadata": {
        "colab": {
          "base_uri": "https://localhost:8080/"
        },
        "id": "T9wnK0j4YkPm",
        "outputId": "a6626dce-571a-4f6b-fff4-d7e2b8901e31"
      },
      "source": [
        "print(f'RMSE Test: {np.sqrt(mean_squared_error(y_test, y_pred))}')"
      ],
      "execution_count": 57,
      "outputs": [
        {
          "output_type": "stream",
          "text": [
            "RMSE Test: 1.2771008349529975\n"
          ],
          "name": "stdout"
        }
      ]
    },
    {
      "cell_type": "code",
      "metadata": {
        "colab": {
          "base_uri": "https://localhost:8080/",
          "height": 367
        },
        "id": "H9iQTOTlYn34",
        "outputId": "e7de44c7-ec1b-41e9-9bc1-f8153ca70f5d"
      },
      "source": [
        "# Visualize the predictions (in blue) against the actual values (in red)\n",
        "ax1 = sns.distplot(y_test, hist=False, color='r', label='actual')\n",
        "sns_plot = sns.distplot(y_pred, hist=False, color='b',label='prediction', ax=ax1)\n",
        "\n",
        "# Save the figure to a file\n",
        "sns_plot.get_figure().savefig(\"rfor_grid.png\")"
      ],
      "execution_count": 58,
      "outputs": [
        {
          "output_type": "stream",
          "text": [
            "/usr/local/lib/python3.7/dist-packages/seaborn/distributions.py:2557: FutureWarning: `distplot` is a deprecated function and will be removed in a future version. Please adapt your code to use either `displot` (a figure-level function with similar flexibility) or `kdeplot` (an axes-level function for kernel density plots).\n",
            "  warnings.warn(msg, FutureWarning)\n",
            "/usr/local/lib/python3.7/dist-packages/seaborn/distributions.py:2557: FutureWarning: `distplot` is a deprecated function and will be removed in a future version. Please adapt your code to use either `displot` (a figure-level function with similar flexibility) or `kdeplot` (an axes-level function for kernel density plots).\n",
            "  warnings.warn(msg, FutureWarning)\n"
          ],
          "name": "stderr"
        },
        {
          "output_type": "display_data",
          "data": {
            "image/png": "[encoded data removed]",
            "text/plain": [
              "<Figure size 432x288 with 1 Axes>"
            ]
          },
          "metadata": {
            "tags": [],
            "needs_background": "light"
          }
        }
      ]
    },
    {
      "cell_type": "code",
      "metadata": {
        "colab": {
          "base_uri": "https://localhost:8080/"
        },
        "id": "_CjWa1eCY0gh",
        "outputId": "87ce3c49-b338-431d-bdc9-e0101b9f9d1a"
      },
      "source": [
        "# Save the model to disk\n",
        "dump(rfor_grid.best_estimator_, 'rfor_grid.pk1')"
      ],
      "execution_count": 59,
      "outputs": [
        {
          "output_type": "execute_result",
          "data": {
            "text/plain": [
              "['rfor_grid.pk1']"
            ]
          },
          "metadata": {
            "tags": []
          },
          "execution_count": 59
        }
      ]
    },
    {
      "cell_type": "markdown",
      "metadata": {
        "id": "1P8O5hhAYu0b"
      },
      "source": [
        "## 2.4 Gradient Boosting"
      ]
    },
    {
      "cell_type": "code",
      "metadata": {
        "colab": {
          "base_uri": "https://localhost:8080/"
        },
        "id": "XVt-3dPpIT-o",
        "outputId": "ba17c869-c6e0-4024-9fb7-671fa46c2161"
      },
      "source": [
        "from sklearn.ensemble import GradientBoostingRegressor\n",
        "grad_reg = GradientBoostingRegressor()\n",
        "grad_reg.fit(X_train, y_train)"
      ],
      "execution_count": 60,
      "outputs": [
        {
          "output_type": "execute_result",
          "data": {
            "text/plain": [
              "GradientBoostingRegressor(alpha=0.9, ccp_alpha=0.0, criterion='friedman_mse',\n",
              "                          init=None, learning_rate=0.1, loss='ls', max_depth=3,\n",
              "                          max_features=None, max_leaf_nodes=None,\n",
              "                          min_impurity_decrease=0.0, min_impurity_split=None,\n",
              "                          min_samples_leaf=1, min_samples_split=2,\n",
              "                          min_weight_fraction_leaf=0.0, n_estimators=100,\n",
              "                          n_iter_no_change=None, presort='deprecated',\n",
              "                          random_state=None, subsample=1.0, tol=0.0001,\n",
              "                          validation_fraction=0.1, verbose=0, warm_start=False)"
            ]
          },
          "metadata": {
            "tags": []
          },
          "execution_count": 60
        }
      ]
    },
    {
      "cell_type": "code",
      "metadata": {
        "colab": {
          "base_uri": "https://localhost:8080/"
        },
        "id": "_IOtay91Is0T",
        "outputId": "c62a549e-0504-4d3d-baee-62b1a2ae8414"
      },
      "source": [
        "grad_reg.score(X_test, y_test)"
      ],
      "execution_count": 61,
      "outputs": [
        {
          "output_type": "execute_result",
          "data": {
            "text/plain": [
              "0.7831646139094971"
            ]
          },
          "metadata": {
            "tags": []
          },
          "execution_count": 61
        }
      ]
    },
    {
      "cell_type": "code",
      "metadata": {
        "id": "_fm_wMUuY9-I"
      },
      "source": [
        "# Hyperparameter values to feed to the GridSearchCV\n",
        "param_dict = {\"learning_rate\"   : [0.01, 0.1, 0.3],\n",
        "             \"subsample\"        : [0.5, 1.0],\n",
        "             'max_depth'        : np.arange(5, 41, 5),\n",
        "             \"max_features\"     : ['auto', 'sqrt'],\n",
        "             \"min_samples_split\": [5, 10, 20],\n",
        "             \"min_samples_leaf\" : [2, 6, 12]\n",
        "             }"
      ],
      "execution_count": 62,
      "outputs": []
    },
    {
      "cell_type": "code",
      "metadata": {
        "id": "LsZFpGoRZCjd"
      },
      "source": [
        "# Instantiate a GridSearchCV on a GradientBoostingRegressor model with 100 iterations\n",
        "grad_reg_grid = GridSearchCV(grad_reg, param_grid = param_dict, cv= 10, n_jobs = -1)\n"
      ],
      "execution_count": 63,
      "outputs": []
    },
    {
      "cell_type": "code",
      "metadata": {
        "id": "XD0J8VE9LQFN",
        "colab": {
          "base_uri": "https://localhost:8080/"
        },
        "outputId": "bca245bf-ee46-40a2-e444-d8561dffa5f6"
      },
      "source": [
        "grad_reg_grid.fit(X_train, y_train)"
      ],
      "execution_count": 64,
      "outputs": [
        {
          "output_type": "execute_result",
          "data": {
            "text/plain": [
              "GridSearchCV(cv=10, error_score=nan,\n",
              "             estimator=GradientBoostingRegressor(alpha=0.9, ccp_alpha=0.0,\n",
              "                                                 criterion='friedman_mse',\n",
              "                                                 init=None, learning_rate=0.1,\n",
              "                                                 loss='ls', max_depth=3,\n",
              "                                                 max_features=None,\n",
              "                                                 max_leaf_nodes=None,\n",
              "                                                 min_impurity_decrease=0.0,\n",
              "                                                 min_impurity_split=None,\n",
              "                                                 min_samples_leaf=1,\n",
              "                                                 min_samples_split=2,\n",
              "                                                 min_weight_fraction_leaf=0.0,\n",
              "                                                 n_estimators=100,\n",
              "                                                 n_iter_...\n",
              "                                                 validation_fraction=0.1,\n",
              "                                                 verbose=0, warm_start=False),\n",
              "             iid='deprecated', n_jobs=-1,\n",
              "             param_grid={'learning_rate': [0.01, 0.1, 0.3],\n",
              "                         'max_depth': array([ 5, 10, 15, 20, 25, 30, 35, 40]),\n",
              "                         'max_features': ['auto', 'sqrt'],\n",
              "                         'min_samples_leaf': [2, 6, 12],\n",
              "                         'min_samples_split': [5, 10, 20],\n",
              "                         'subsample': [0.5, 1.0]},\n",
              "             pre_dispatch='2*n_jobs', refit=True, return_train_score=False,\n",
              "             scoring=None, verbose=0)"
            ]
          },
          "metadata": {
            "tags": []
          },
          "execution_count": 64
        }
      ]
    },
    {
      "cell_type": "code",
      "metadata": {
        "colab": {
          "base_uri": "https://localhost:8080/"
        },
        "id": "13voaiKUZKhF",
        "outputId": "43ac231f-648d-4511-f524-c9d86951667d"
      },
      "source": [
        "# Check the best parameters found by GridSearchCV\n",
        "grad_reg_grid.best_params_"
      ],
      "execution_count": 65,
      "outputs": [
        {
          "output_type": "execute_result",
          "data": {
            "text/plain": [
              "{'learning_rate': 0.1,\n",
              " 'max_depth': 5,\n",
              " 'max_features': 'auto',\n",
              " 'min_samples_leaf': 2,\n",
              " 'min_samples_split': 20,\n",
              " 'subsample': 0.5}"
            ]
          },
          "metadata": {
            "tags": []
          },
          "execution_count": 65
        }
      ]
    },
    {
      "cell_type": "code",
      "metadata": {
        "id": "yp32PcXyZLVZ",
        "colab": {
          "base_uri": "https://localhost:8080/"
        },
        "outputId": "d4bfff81-0a9b-4dc8-cfb9-96211f269c46"
      },
      "source": [
        "# Check the cross-validation evaluation metric of the best estimator\n",
        "print(f'R^2 Validation: {grad_reg_grid.best_score_}')"
      ],
      "execution_count": 66,
      "outputs": [
        {
          "output_type": "stream",
          "text": [
            "R^2 Validation: 0.7543249751729505\n"
          ],
          "name": "stdout"
        }
      ]
    },
    {
      "cell_type": "code",
      "metadata": {
        "id": "mT2fqVFrZbao",
        "colab": {
          "base_uri": "https://localhost:8080/"
        },
        "outputId": "c6b3aa2c-c7d2-4c8d-e434-dec683f6d440"
      },
      "source": [
        "# Check the features which are considered as most important in making predictions\n",
        "sorted(dict(zip(X_train.columns, grad_reg_grid.best_estimator_.feature_importances_)).items(), key=lambda x: x[1], reverse=True)"
      ],
      "execution_count": 67,
      "outputs": [
        {
          "output_type": "execute_result",
          "data": {
            "text/plain": [
              "[('t', 0.38639497728016003),\n",
              " ('x5', 0.12240258139659652),\n",
              " ('x12', 0.09386860906611878),\n",
              " ('x9', 0.08460274739168912),\n",
              " ('x1', 0.07178111672286787),\n",
              " ('x23', 0.045239968900689),\n",
              " ('x6', 0.03923243784179774),\n",
              " ('x3', 0.03520341600905934),\n",
              " ('x2', 0.02925005470501907),\n",
              " ('x19', 0.0158382058878662),\n",
              " ('x13', 0.011744026091564854),\n",
              " ('x15', 0.008619607796332878),\n",
              " ('x7', 0.008086847795940417),\n",
              " ('x17', 0.00642348565534117),\n",
              " ('x4', 0.006163077776412027),\n",
              " ('x21', 0.005826543711322104),\n",
              " ('x8', 0.004275831938368776),\n",
              " ('x24', 0.004092071929364408),\n",
              " ('x11', 0.003715890356086333),\n",
              " ('x20', 0.0036888902237770297),\n",
              " ('x10', 0.003044164748942984),\n",
              " ('x14', 0.0026719320659677834),\n",
              " ('x22', 0.0026229487322770996),\n",
              " ('x25', 0.0022921318481554883),\n",
              " ('x18', 0.0019218017307652798),\n",
              " ('x16', 0.0009966323975176686)]"
            ]
          },
          "metadata": {
            "tags": []
          },
          "execution_count": 67
        }
      ]
    },
    {
      "cell_type": "code",
      "metadata": {
        "id": "XkX8rRmBZiy0"
      },
      "source": [
        "# Compute predictions from the test set\n",
        "y_pred = grad_reg_grid.predict(X_test)"
      ],
      "execution_count": 68,
      "outputs": []
    },
    {
      "cell_type": "code",
      "metadata": {
        "colab": {
          "base_uri": "https://localhost:8080/"
        },
        "id": "lQosAIyqZoFd",
        "outputId": "c86015c4-0951-45da-9a8f-ecf40da5fb6b"
      },
      "source": [
        "# Coefficient of determination (R^2) on the test set\n",
        "print(f'R^2 Test: {grad_reg_grid.score(X_test, y_test)}')"
      ],
      "execution_count": 69,
      "outputs": [
        {
          "output_type": "stream",
          "text": [
            "R^2 Test: 0.7781793417962963\n"
          ],
          "name": "stdout"
        }
      ]
    },
    {
      "cell_type": "code",
      "metadata": {
        "colab": {
          "base_uri": "https://localhost:8080/"
        },
        "id": "ggJWbwSpZrQK",
        "outputId": "50929e5b-815c-48c1-f258-cf791a312c66"
      },
      "source": [
        "print(f'RMSE Test: {np.sqrt(mean_squared_error(y_test, y_pred))}')"
      ],
      "execution_count": 70,
      "outputs": [
        {
          "output_type": "stream",
          "text": [
            "RMSE Test: 1.085227602992855\n"
          ],
          "name": "stdout"
        }
      ]
    },
    {
      "cell_type": "code",
      "metadata": {
        "colab": {
          "base_uri": "https://localhost:8080/",
          "height": 367
        },
        "id": "Rrx-5ipQZuuP",
        "outputId": "cfa07165-6168-4bf1-9f6b-ff8d02582e29"
      },
      "source": [
        "# Visualize the predictions (in blue) against the actual values (in red)\n",
        "ax1 = sns.distplot(y_test, hist=False, color='r', label='actual')\n",
        "sns_plot = sns.distplot(y_pred, hist=False, color='b',label='prediction', ax=ax1)\n",
        "\n",
        "# Save the figure to a file\n",
        "sns_plot.get_figure().savefig(\"grad_reg.png\")"
      ],
      "execution_count": 71,
      "outputs": [
        {
          "output_type": "stream",
          "text": [
            "/usr/local/lib/python3.7/dist-packages/seaborn/distributions.py:2557: FutureWarning: `distplot` is a deprecated function and will be removed in a future version. Please adapt your code to use either `displot` (a figure-level function with similar flexibility) or `kdeplot` (an axes-level function for kernel density plots).\n",
            "  warnings.warn(msg, FutureWarning)\n",
            "/usr/local/lib/python3.7/dist-packages/seaborn/distributions.py:2557: FutureWarning: `distplot` is a deprecated function and will be removed in a future version. Please adapt your code to use either `displot` (a figure-level function with similar flexibility) or `kdeplot` (an axes-level function for kernel density plots).\n",
            "  warnings.warn(msg, FutureWarning)\n"
          ],
          "name": "stderr"
        },
        {
          "output_type": "display_data",
          "data": {
            "image/png": "[encoded data removed]",
            "text/plain": [
              "<Figure size 432x288 with 1 Axes>"
            ]
          },
          "metadata": {
            "tags": [],
            "needs_background": "light"
          }
        }
      ]
    },
    {
      "cell_type": "code",
      "metadata": {
        "colab": {
          "base_uri": "https://localhost:8080/"
        },
        "id": "1kY20W9SZyXW",
        "outputId": "9fe557ee-0c1d-4b82-8a8b-94b757b1f3a4"
      },
      "source": [
        "# Save the model to disk\n",
        "dump(grad_reg_grid.best_estimator_, 'grad_reg.pkl')"
      ],
      "execution_count": 72,
      "outputs": [
        {
          "output_type": "execute_result",
          "data": {
            "text/plain": [
              "['grad_reg.pkl']"
            ]
          },
          "metadata": {
            "tags": []
          },
          "execution_count": 72
        }
      ]
    },
    {
      "cell_type": "markdown",
      "metadata": {
        "id": "20hNVD26Z2lX"
      },
      "source": [
        "### 2.5: XGBoost"
      ]
    },
    {
      "cell_type": "code",
      "metadata": {
        "id": "eKdbvQoKOyxM"
      },
      "source": [
        "from xgboost import XGBRegressor\n",
        "\n",
        "xgb_reg = XGBRegressor()"
      ],
      "execution_count": 73,
      "outputs": []
    },
    {
      "cell_type": "code",
      "metadata": {
        "colab": {
          "base_uri": "https://localhost:8080/"
        },
        "id": "ySvFJvglPISf",
        "outputId": "60d2d207-7da1-42e4-e589-07d077ce6c78"
      },
      "source": [
        "xgb_reg.fit(X_train, y_train)"
      ],
      "execution_count": 74,
      "outputs": [
        {
          "output_type": "stream",
          "text": [
            "[15:17:48] WARNING: /workspace/src/objective/regression_obj.cu:152: reg:linear is now deprecated in favor of reg:squarederror.\n"
          ],
          "name": "stdout"
        },
        {
          "output_type": "execute_result",
          "data": {
            "text/plain": [
              "XGBRegressor(base_score=0.5, booster='gbtree', colsample_bylevel=1,\n",
              "             colsample_bynode=1, colsample_bytree=1, gamma=0,\n",
              "             importance_type='gain', learning_rate=0.1, max_delta_step=0,\n",
              "             max_depth=3, min_child_weight=1, missing=None, n_estimators=100,\n",
              "             n_jobs=1, nthread=None, objective='reg:linear', random_state=0,\n",
              "             reg_alpha=0, reg_lambda=1, scale_pos_weight=1, seed=None,\n",
              "             silent=None, subsample=1, verbosity=1)"
            ]
          },
          "metadata": {
            "tags": []
          },
          "execution_count": 74
        }
      ]
    },
    {
      "cell_type": "code",
      "metadata": {
        "id": "UIh5t5EfPJ6O"
      },
      "source": [
        "y_pred = xgb_reg.predict(X_test)"
      ],
      "execution_count": 75,
      "outputs": []
    },
    {
      "cell_type": "code",
      "metadata": {
        "colab": {
          "base_uri": "https://localhost:8080/"
        },
        "id": "mxV2_GVdPYA_",
        "outputId": "079018e5-be88-4f68-e5dd-3545dda55dac"
      },
      "source": [
        "xgb_reg.score(X_test, y_test)"
      ],
      "execution_count": 76,
      "outputs": [
        {
          "output_type": "execute_result",
          "data": {
            "text/plain": [
              "0.7902614432306645"
            ]
          },
          "metadata": {
            "tags": []
          },
          "execution_count": 76
        }
      ]
    },
    {
      "cell_type": "code",
      "metadata": {
        "id": "E4nyJpl0aBww"
      },
      "source": [
        "# Hyperparameter values to feed to the RandomizedSearchCV\n",
        "param_grid = {\"learning_rate\"   : [0.01, 0.1, 0.3] ,\n",
        "             'max_depth'        : np.arange(5, 41, 5),\n",
        "             \"min_child_weight\" : [1, 3, 5, 7],\n",
        "             \"gamma\"            : [0.0, 0.1, 0.2, 0.3, 0.4],\n",
        "             \"colsample_bytree\" : [0.3, 0.4, 0.5, 0.7]\n",
        "             }"
      ],
      "execution_count": 77,
      "outputs": []
    },
    {
      "cell_type": "code",
      "metadata": {
        "id": "mAxYYD82Z7Fg"
      },
      "source": [
        "# Instantiate a RandomizedSearchCV on an XGBRegressor model with 100 iterations\n",
        "xgb_reg_grid = GridSearchCV(xgb_reg, param_grid= param_dict, cv=10, n_jobs = -1)\n"
      ],
      "execution_count": 78,
      "outputs": []
    },
    {
      "cell_type": "code",
      "metadata": {
        "colab": {
          "background_save": true
        },
        "id": "o7F63UaWSPOF"
      },
      "source": [
        "xgb_reg_grid.fit(X_train,y_train)"
      ],
      "execution_count": null,
      "outputs": []
    },
    {
      "cell_type": "code",
      "metadata": {
        "id": "r8zTLAUFaK27"
      },
      "source": [
        "# Best parameters\n",
        "xgb_reg_grid.best_estimator_"
      ],
      "execution_count": null,
      "outputs": []
    },
    {
      "cell_type": "code",
      "metadata": {
        "id": "6VeVzGkPaPm2"
      },
      "source": [
        "# Check the cross-validation evaluation metric of the best estimator\n",
        "print(f'R^2 Validation: {xgb_reg_grid.best_score_}')"
      ],
      "execution_count": null,
      "outputs": []
    },
    {
      "cell_type": "code",
      "metadata": {
        "id": "--FYhJ5paU0L"
      },
      "source": [
        "# Check the number of times a feature was used to split the data across all trees\n",
        "sorted(xgb_reg_grid.best_estimator_.get_booster().get_score(importance_type='weight').items(), key=lambda x: x[1], reverse=True)"
      ],
      "execution_count": null,
      "outputs": []
    },
    {
      "cell_type": "code",
      "metadata": {
        "id": "i0c7amXyaZrq"
      },
      "source": [
        "# Plot the same data on a graph\n",
        "from xgboost import plot_importance\n",
        "from matplotlib import pyplot as plt\n",
        "\n",
        "fig, ax = plt.subplots(figsize=(8, 7))\n",
        "plot_importance(xgb_reg_grid.best_estimator_, ax=ax)"
      ],
      "execution_count": null,
      "outputs": []
    },
    {
      "cell_type": "code",
      "metadata": {
        "id": "7OBrFF1Daf3-"
      },
      "source": [
        "# Compute predictions from the test set\n",
        "y_pred = xgb_reg_grid.predict(X_test)"
      ],
      "execution_count": null,
      "outputs": []
    },
    {
      "cell_type": "code",
      "metadata": {
        "id": "vMLV7vqEalC_"
      },
      "source": [
        "# Coefficient of determination (R^2) on the test set\n",
        "print(f'R^2 Test: {xgb_reg_grid.score(X_test, y_test)}')"
      ],
      "execution_count": null,
      "outputs": []
    },
    {
      "cell_type": "code",
      "metadata": {
        "id": "5S0relLWaoLx"
      },
      "source": [
        "print(f'RMSE Test: {np.sqrt(mean_squared_error(y_test, y_pred))}')"
      ],
      "execution_count": null,
      "outputs": []
    },
    {
      "cell_type": "code",
      "metadata": {
        "id": "gIjwcJV5atac"
      },
      "source": [
        "# Visualize the predictions (in blue) against the actual values (in red)\n",
        "ax1 = sns.distplot(y_test, hist=False, color='r', label='actual')\n",
        "sns_plot = sns.distplot(y_pred, hist=False, color='b',label='prediction', ax=ax1)\n",
        "\n",
        "# Save the figure to a file\n",
        "sns_plot.get_figure().savefig(\"xgb_reg.png\")"
      ],
      "execution_count": null,
      "outputs": []
    },
    {
      "cell_type": "code",
      "metadata": {
        "id": "0l9S-88cavOR"
      },
      "source": [
        "# Save the model to disk\n",
        "dump(xgb_reg.best_estimator_, 'xgb_reg.pkl')"
      ],
      "execution_count": null,
      "outputs": []
    }
  ]
}